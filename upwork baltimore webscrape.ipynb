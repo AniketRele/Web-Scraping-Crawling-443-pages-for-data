{
 "cells": [
  {
   "cell_type": "code",
   "execution_count": 104,
   "metadata": {},
   "outputs": [],
   "source": [
    "import pandas as pd\n",
    "from selenium import webdriver\n",
    "from selenium.common.exceptions import NoSuchElementException\n",
    "import time"
   ]
  },
  {
   "cell_type": "code",
   "execution_count": 212,
   "metadata": {},
   "outputs": [],
   "source": [
    "link = 'https://baltimorecity.marylandtaxsale.com/index.cfm?folder=previewitems'\n",
    "driver = webdriver.Chrome(r\"C:\\Users\\Aniket.Rele\\Desktop\\KINESSO\\projects\\canada goose\\codes\\chromedriver_win32\\chromedriver.exe\")\n",
    "driver.get(link)\n",
    "driver.maximize_window()\n",
    "\n",
    "printcounter = 0\n",
    "i = 1\n",
    "a,p,f,s=[],[],[],[]\n",
    "\n",
    "for j in range(3356547,3378648):\n",
    "    driver.find_element_by_xpath(f'//*[@id=\"gotoPageNum\"]/option[{i}]').click()\n",
    "    if (printcounter == 50):\n",
    "        printcounter = 0\n",
    "        i = i+1\n",
    "        driver.find_element_by_xpath(f'//*[@id=\"gotoPageNum\"]/option[{i}]').click()\n",
    "        a.append(driver.find_element_by_xpath(f'//*[@id=\"cert{j}\"]/td[1]').text)\n",
    "        p.append(driver.find_element_by_xpath(f'//*[@id=\"cert{j}\"]/td[2]').text)\n",
    "        f.append(driver.find_element_by_xpath(f'//*[@id=\"cert{j}\"]/td[3]').text)\n",
    "        s.append(driver.find_element_by_xpath(f'//*[@id=\"cert{j}\"]/td[4]').text)\n",
    "        printcounter += 1\n",
    "        print(printcounter,driver.find_element_by_xpath(f'//*[@id=\"cert{j}\"]/td[1]').text,j)\n",
    "    else:\n",
    "        a.append(driver.find_element_by_xpath(f'//*[@id=\"cert{j}\"]/td[1]').text)\n",
    "        p.append(driver.find_element_by_xpath(f'//*[@id=\"cert{j}\"]/td[2]').text)\n",
    "        f.append(driver.find_element_by_xpath(f'//*[@id=\"cert{j}\"]/td[3]').text)\n",
    "        s.append(driver.find_element_by_xpath(f'//*[@id=\"cert{j}\"]/td[4]').text)\n",
    "        printcounter += 1\n",
    "        print(printcounter,driver.find_element_by_xpath(f'//*[@id=\"cert{j}\"]/td[1]').text,j)\n",
    "print(i)"
   ]
  },
  {
   "cell_type": "code",
   "execution_count": 299,
   "metadata": {},
   "outputs": [],
   "source": [
    "df = pd.DataFrame({'ADV NUM':a, 'Parcel ID':p,'Face Amount':f,'Status':s})"
   ]
  },
  {
   "cell_type": "code",
   "execution_count": 301,
   "metadata": {},
   "outputs": [],
   "source": [
    "df.to_excel(r\"C:\\Users\\Aniket.Rele\\Downloads\\baltimorecity.xlsx\",index=False)"
   ]
  }
 ],
 "metadata": {
  "kernelspec": {
   "display_name": "Python 3",
   "language": "python",
   "name": "python3"
  },
  "language_info": {
   "codemirror_mode": {
    "name": "ipython",
    "version": 3
   },
   "file_extension": ".py",
   "mimetype": "text/x-python",
   "name": "python",
   "nbconvert_exporter": "python",
   "pygments_lexer": "ipython3",
   "version": "3.8.3"
  }
 },
 "nbformat": 4,
 "nbformat_minor": 4
}
